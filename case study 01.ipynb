{
 "cells": [
  {
   "cell_type": "markdown",
   "id": "6c9c9878",
   "metadata": {},
   "source": [
    "1.A school has following rules for grading system: a. Below 25 - F b. 25 to 45 - E c. 45 to 50 - D d. 50 to 60 - C e. 60 to 80 - B f. Above 80 - A Ask user to enter marks and print the corresponding grade."
   ]
  },
  {
   "cell_type": "code",
   "execution_count": 1,
   "id": "5d33a52e",
   "metadata": {},
   "outputs": [
    {
     "name": "stdout",
     "output_type": "stream",
     "text": [
      "enter the mark55\n",
      "C grade\n"
     ]
    }
   ],
   "source": [
    "mark=int(input(\"enter the mark\"))\n",
    "if mark<25:\n",
    "    print(\"failed\")\n",
    "elif mark>25 and mark<45:\n",
    "    print(\"E grade\")\n",
    "elif mark>45 and mark<50:\n",
    "    print(\"D grade\")\n",
    "elif mark>50 and mark<60:\n",
    "    print(\"C grade\")\n",
    "elif mark>60 and mark<80:\n",
    "    print(\"B grade\")\n",
    "else:\n",
    "    print(\"A grade\")"
   ]
  },
  {
   "cell_type": "markdown",
   "id": "1542defd",
   "metadata": {},
   "source": [
    " 2.You have a list of names. Create a new list which contains only the names with non-repeating characters. Sample input = [‘John’,’Peter’,’Meera’,’Mini’,’Krishna’] Sample output = [‘John’,Krishna]"
   ]
  },
  {
   "cell_type": "markdown",
   "id": "39aa3e3d",
   "metadata": {},
   "source": [
    "3.Take values of length and breadth of a rectangle from user and check if it is square or not."
   ]
  },
  {
   "cell_type": "code",
   "execution_count": 2,
   "id": "b485f876",
   "metadata": {},
   "outputs": [
    {
     "name": "stdout",
     "output_type": "stream",
     "text": [
      "Enter the length of rectangle4\n",
      "Enter the breadth of rectangle4\n",
      "it is a square\n"
     ]
    }
   ],
   "source": [
    "x=int(input(\"Enter the length of rectangle\"))\n",
    "y=int(input(\"Enter the breadth of rectangle\"))\n",
    "if x==y:\n",
    "    print(\"it is a square\")\n",
    "else:\n",
    "    print(\"it is not a square\")"
   ]
  },
  {
   "cell_type": "markdown",
   "id": "819cf9a9",
   "metadata": {},
   "source": [
    "4.A student will not be allowed to sit in exam if his/her attendance is less than 75%. Take following input from user Number of classes held Number of classes attended. And print percentage of class attended Is student is allowed to sit in exam or not."
   ]
  },
  {
   "cell_type": "code",
   "execution_count": 3,
   "id": "d445241f",
   "metadata": {},
   "outputs": [
    {
     "name": "stdout",
     "output_type": "stream",
     "text": [
      "enter the no.of classes held 75\n",
      "enter the no.of classes you have attened 75\n",
      "your exam is on 25th february\n"
     ]
    }
   ],
   "source": [
    "working=int(input(\"enter the no.of classes held \"))\n",
    "attended=int(input(\"enter the no.of classes you have attened \"))\n",
    "percentege=attended*100/working\n",
    "if percentege>75:\n",
    "    print(\"your exam is on 25th february\")\n",
    "else:\n",
    "    print(\"you are not allowed to write the exam\")"
   ]
  },
  {
   "cell_type": "markdown",
   "id": "6cff776f",
   "metadata": {},
   "source": [
    "5.Create a list by taking length of the list and elements of the list from user. Then find the sum of the elements of the list. Also create a new called even list which contains only even numbers from first list and odd list which contains odd numbers from the list. Sample input: Length of the list = 5 List1 = [2,6,3,1,5] Sum = 17 Even_list=[2,6] Odd_list=[3,1,5]"
   ]
  },
  {
   "cell_type": "code",
   "execution_count": 4,
   "id": "6e32c288",
   "metadata": {},
   "outputs": [
    {
     "name": "stdout",
     "output_type": "stream",
     "text": [
      "enter the length of the list3\n",
      "enter the element of the list4\n",
      "enter the element of the list5\n",
      "enter the element of the list6\n",
      "[4, 5, 6]\n",
      "15\n",
      "even list= [4, 6]\n",
      "odd list= [5]\n"
     ]
    }
   ],
   "source": [
    "p=[]\n",
    "x=int(input(\"enter the length of the list\"))\n",
    "for i in range(x):\n",
    "    y=int(input(\"enter the element of the list\"))\n",
    "    p.append(y)\n",
    "print(p)\n",
    "sum=0\n",
    "for j in range(x):\n",
    "    sum=sum+p[j]\n",
    "print(sum)\n",
    "even=[]\n",
    "odd=[]\n",
    "for i in p:\n",
    "    if (i%2==0):\n",
    "        even.append(i)\n",
    "    else:\n",
    "        odd.append(i)\n",
    "print('even list=',even)\n",
    "print('odd list=',odd)"
   ]
  },
  {
   "cell_type": "markdown",
   "id": "bc5e20a4",
   "metadata": {},
   "source": [
    " 6.Create a sample chatbot for an ecommerce website"
   ]
  },
  {
   "cell_type": "code",
   "execution_count": 5,
   "id": "370e5e75",
   "metadata": {},
   "outputs": [
    {
     "name": "stdout",
     "output_type": "stream",
     "text": [
      "Welcome to psc tulsi\n",
      "Enter Quit to Stopmorning\n",
      "good morning\n",
      "Enter Quit to Stopquit\n",
      "see you later\n"
     ]
    }
   ],
   "source": [
    "print(\"Welcome to psc tulsi\")\n",
    "while True:\n",
    "    x=input(\"Enter Quit to Stop\")\n",
    "    x=x.lower()\n",
    "    if x=='quit':\n",
    "        print(\"see you later\")\n",
    "        break\n",
    "    y=x.split()\n",
    "    if len(y)==0:\n",
    "        print(\"please give a valid input\")\n",
    "    elif 'morning' in y:\n",
    "        print('good morning')\n",
    "    elif 'exam' in y:\n",
    "        print('please visit www.psctulsi for more details')\n",
    "    elif 'hall ticket' in y:\n",
    "        print('please visit www.psctusi for more details')\n",
    "    else:\n",
    "        print('please use another option')"
   ]
  },
  {
   "cell_type": "markdown",
   "id": "a2b37c66",
   "metadata": {},
   "source": [
    " 7.Write a program to find the roots of a quadratic equation. Get the coefficients of quadratic equation ax^2+bx+c and display whether the roots are real and equal or real and distinct or roots are imaginary. You have to find the roots and display it as well."
   ]
  },
  {
   "cell_type": "markdown",
   "id": "fa1219f6",
   "metadata": {},
   "source": [
    " 8. Given a range of first 10 numbers, write a Python program to iterate from\n",
    "start number to the end number and print the sum of the current number\n",
    "and previous number.\n",
    "Sample input: 1….10\n",
    "Sample output: Current Number 1 Previous Number 0 Sum: 1\n",
    "Current Number 2 Previous Number 1 Sum: 3\n",
    "Current Number 3 Previous Number 2 Sum: 5…\n",
    "…….\n",
    "Current Number 10 Previous Number 9 Sum: 19"
   ]
  },
  {
   "cell_type": "code",
   "execution_count": 6,
   "id": "1b05b046",
   "metadata": {},
   "outputs": [
    {
     "name": "stdout",
     "output_type": "stream",
     "text": [
      "Printing current and previous number and their sum in a range(10)\n",
      "Current Number 1 Previous Number  0  Sum:  1\n",
      "Current Number 2 Previous Number  1  Sum:  3\n",
      "Current Number 3 Previous Number  2  Sum:  5\n",
      "Current Number 4 Previous Number  3  Sum:  7\n",
      "Current Number 5 Previous Number  4  Sum:  9\n",
      "Current Number 6 Previous Number  5  Sum:  11\n",
      "Current Number 7 Previous Number  6  Sum:  13\n",
      "Current Number 8 Previous Number  7  Sum:  15\n",
      "Current Number 9 Previous Number  8  Sum:  17\n",
      "Current Number 10 Previous Number  9  Sum:  19\n"
     ]
    }
   ],
   "source": [
    "print(\"Printing current and previous number and their sum in a range(10)\")\n",
    "previous_no = 0\n",
    "\n",
    "for i in range(1, 11):\n",
    "    sum = previous_no + i\n",
    "    print(\"Current Number\", i, \"Previous Number \", previous_no, \" Sum: \", sum)\n",
    "    previous_no = i"
   ]
  },
  {
   "cell_type": "markdown",
   "id": "d67596c2",
   "metadata": {},
   "source": [
    " 9.Write a Python program to find the prime numbers in a given range. Get the range from user and print prime numbers in that range."
   ]
  },
  {
   "cell_type": "code",
   "execution_count": 7,
   "id": "bb920b98",
   "metadata": {},
   "outputs": [
    {
     "name": "stdout",
     "output_type": "stream",
     "text": [
      "enter the limit10\n",
      "[1, 2, 3, 5, 7, 9]\n"
     ]
    }
   ],
   "source": [
    "p=[]\n",
    "x=int(input(\"enter the limit\"))\n",
    "for i in range(x):\n",
    "    if (i%2!=0) or (i==2):\n",
    "        p.append(i)\n",
    "    else:\n",
    "        pass\n",
    "print(p)"
   ]
  },
  {
   "cell_type": "markdown",
   "id": "ac96a4d8",
   "metadata": {},
   "source": [
    "10.Write a Python program to print Fibonacci series in a given range. Get the range from user and print fibonacci numbers in that range"
   ]
  },
  {
   "cell_type": "code",
   "execution_count": null,
   "id": "119159ba",
   "metadata": {},
   "outputs": [],
   "source": []
  }
 ],
 "metadata": {
  "kernelspec": {
   "display_name": "Python 3 (ipykernel)",
   "language": "python",
   "name": "python3"
  },
  "language_info": {
   "codemirror_mode": {
    "name": "ipython",
    "version": 3
   },
   "file_extension": ".py",
   "mimetype": "text/x-python",
   "name": "python",
   "nbconvert_exporter": "python",
   "pygments_lexer": "ipython3",
   "version": "3.9.13"
  }
 },
 "nbformat": 4,
 "nbformat_minor": 5
}
